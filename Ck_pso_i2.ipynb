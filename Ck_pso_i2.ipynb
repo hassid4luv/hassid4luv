{
  "nbformat": 4,
  "nbformat_minor": 0,
  "metadata": {
    "colab": {
      "provenance": [],
      "authorship_tag": "ABX9TyM0joFEuqwo2pVKD2P780S0",
      "include_colab_link": true
    },
    "kernelspec": {
      "name": "python3",
      "display_name": "Python 3"
    },
    "language_info": {
      "name": "python"
    }
  },
  "cells": [
    {
      "cell_type": "markdown",
      "metadata": {
        "id": "view-in-github",
        "colab_type": "text"
      },
      "source": [
        "<a href=\"https://colab.research.google.com/github/hassid4luv/hassid4luv/blob/main/Ck_pso_i2.ipynb\" target=\"_parent\"><img src=\"https://colab.research.google.com/assets/colab-badge.svg\" alt=\"Open In Colab\"/></a>"
      ]
    },
    {
      "cell_type": "code",
      "execution_count": 1,
      "metadata": {
        "id": "cMNDY6OZy63_",
        "colab": {
          "base_uri": "https://localhost:8080/"
        },
        "outputId": "6cc4c545-f72f-4871-ba40-94b5910bbd24"
      },
      "outputs": [
        {
          "output_type": "stream",
          "name": "stdout",
          "text": [
            "Collecting pyswarm\n",
            "  Downloading pyswarm-0.6.tar.gz (4.3 kB)\n",
            "  Preparing metadata (setup.py) ... \u001b[?25l\u001b[?25hdone\n",
            "Requirement already satisfied: numpy in /usr/local/lib/python3.10/dist-packages (from pyswarm) (1.23.5)\n",
            "Building wheels for collected packages: pyswarm\n",
            "  Building wheel for pyswarm (setup.py) ... \u001b[?25l\u001b[?25hdone\n",
            "  Created wheel for pyswarm: filename=pyswarm-0.6-py3-none-any.whl size=4463 sha256=281b29799961882ef75f19d231796f3e29064edc37c441ea021e6def8aff07e6\n",
            "  Stored in directory: /root/.cache/pip/wheels/71/67/40/62fa158f497f942277cbab8199b05cb61c571ab324e67ad0d6\n",
            "Successfully built pyswarm\n",
            "Installing collected packages: pyswarm\n",
            "Successfully installed pyswarm-0.6\n"
          ]
        }
      ],
      "source": [
        "pip install pyswarm"
      ]
    },
    {
      "cell_type": "code",
      "source": [
        "import numpy as np\n",
        "import pandas as pd\n",
        "from pyswarm import pso\n",
        "from scipy.integrate import trapz, odeint\n",
        "\n",
        "# Load data from the Excel file\n",
        "data = pd.read_excel('CKinetics-2.xlsx')\n",
        "\n",
        "# Extract the necessary data\n",
        "heating_rate = data['Heating rate (Change in temperature/min)'].values\n",
        "time = data['Time (min)'].values\n",
        "temperature = data['Temperature (Kelvin)'].values\n",
        "CMLexp = data['m/mo (CML)'].values\n",
        "MLRexp = data['d(m/mo)dt (MLR)'].values\n",
        "\n",
        "# Constants\n",
        "N = 350  # Number of experiments (heating rates)\n",
        "n = 70  # Number of datasets per experiment\n",
        "R = 8.314  # Universal gas constant\n",
        "\n",
        "# Sort time values\n",
        "sorted_indices = np.argsort(time)\n",
        "time = time[sorted_indices]\n",
        "\n",
        "# Define optimization bounds for the parameters\n",
        "bounds = [\n",
        "    (0.14, 0.41), (np.exp(16.28) * 60, np.exp(60.72) * 60), (96500, 354000), (0, 7), (-8, 8), (-8, 8), (0.18, 0.57),\n",
        "    (0.01, 0.04), (np.exp(7.63) * 60, np.exp(39.38) * 60), (50000, 200500), (0, 7), (-8, 8), (-8, 8), (0.09, 0.35),\n",
        "    (0.09, 0.27), (np.exp(0.69) * 60, np.exp(42.63) * 60), (23000, 325800), (0, 7), (-8, 8), (-8, 8), (0.13, 0.49),\n",
        "    (0.12, 0.35), (np.exp(7.63) * 60, np.exp(60.72) * 60), (50000, 354000), (0, 7), (-8, 8), (-8, 8), (0.09, 0.57),\n",
        "    (0.15, 0.44), (np.exp(0.69) * 60, np.exp(60.72) * 60), (23000, 354000), (0, 7), (-8, 8), (-8, 8), (0, 0.60)\n",
        "]\n",
        "\n",
        "# Initial guess for the components\n",
        "initial_guess = [0.27, np.exp(16.28) * 60, 200000, 4, 0, 0, 0.27, 0.03, np.exp(7.63) * 60, 100000, 4, 0, 0, 0.18, 0.23, np.exp(0.69) * 60, 50000, 4, 0, 0, 0.29]\n",
        "\n",
        "# PSO optimization\n",
        "lb = [bound[0] for bound in bounds]\n",
        "ub = [bound[1] for bound in bounds]\n",
        "\n",
        "# Define the differential equations\n",
        "def model(Y, t, params):\n",
        "    Y_c, Y_h, Y_l, Y_e, Y_u, Y_v, Y_chardt = Y\n",
        "    Y_ho, Y_lo, Y_eo, Y_uo = params[:4]\n",
        "\n",
        "    # Corrected Y_co calculation\n",
        "    Y_co = 1 - Y_ho - Y_lo - Y_eo - Y_uo\n",
        "\n",
        "    epsilon = 1e-10  # Small epsilon to avoid division by zero\n",
        "    Y_c = max(Y_c, epsilon)\n",
        "    Y_h = max(Y_h, epsilon)\n",
        "    Y_l = max(Y_l, epsilon)\n",
        "    Y_e = max(Y_e, epsilon)\n",
        "    Y_u = max(Y_u, epsilon)\n",
        "\n",
        "    dY_cdt = -Y_co * (Y_c / Y_co) ** params[3] * ((Y_co - Y_c) / Y_co) ** params[4] * (-np.log(Y_c / Y_co + epsilon)) ** params[5] * params[1] * np.exp(-params[2] / (R * t))\n",
        "    dY_hdt = -Y_ho * (Y_h / Y_ho) ** params[10] * ((Y_ho - Y_h) / Y_ho) ** params[11] * (-np.log(Y_h / Y_ho + epsilon)) ** params[12] * params[8] * np.exp(-params[9] / (R * t))\n",
        "    dY_ldt = -Y_lo * (Y_l / Y_lo) ** params[17] * ((Y_lo - Y_l) / Y_lo) ** params[18] * (-np.log(Y_l / Y_lo + epsilon)) ** params[19] * params[15] * np.exp(-params[16] / (R * t))\n",
        "    dY_edt = -Y_eo * (Y_e / Y_eo) ** params[24] * ((Y_eo - Y_e) / Y_eo) ** params[25] * (-np.log(Y_e / Y_eo + epsilon)) ** params[26] * params[22] * np.exp(-params[23] / (R * t))\n",
        "    dY_udt = -Y_uo * (Y_u / Y_uo) ** params[31] * ((Y_uo - Y_u) / Y_uo) ** params[32] * (-np.log(Y_u / Y_uo + epsilon)) ** params[33] * params[29] * np.exp(-params[30] / (R * t))\n",
        "\n",
        "    dY_vdt = -((1 - params[6]) * dY_cdt + (1 - params[13]) * dY_hdt + (1 - params[20]) * dY_ldt + (1 - params[27]) * dY_edt + (1 - params[34]) * dY_udt)\n",
        "    dY_chardt = -((params[6]) * dY_cdt + (params[13]) * dY_hdt + (params[20]) * dY_ldt + (params[27]) * dY_edt + (params[34]) * dY_udt)\n",
        "\n",
        "    return [dY_cdt, dY_hdt, dY_ldt, dY_edt, dY_udt, dY_vdt, dY_chardt]\n",
        "\n",
        "# Define the objective function\n",
        "def objective(params):\n",
        "    Y_ho, Y_lo, Y_eo, Y_uo = params[:4]\n",
        "    Y_co = 1 - Y_ho - Y_lo - Y_eo - Y_uo\n",
        "\n",
        "    # Define the initial conditions\n",
        "    Y0 = [Y_co, 0, 0, 0, 0, 0, 0]  # Initial concentrations for C, H, L, E, U, V, Char\n",
        "\n",
        "    # Solve the differential equations\n",
        "    Y_solution = odeint(model, Y0, time, args=(params,))\n",
        "\n",
        "    # Extract the simulated MLR and CML values\n",
        "    MLR_mod = -Y_solution[:, 4]  # Extract MLR from the last component (U)\n",
        "    CML_mod = trapz(-Y_solution[:, 4], x=time)\n",
        "\n",
        "    # Calculate Phi_1 and Phi_2\n",
        "    phi1 = np.sum((MLR_mod - MLRexp) ** 2) / np.sum((MLRexp - 1 / len(MLRexp) * np.sum(MLRexp)) ** 2)\n",
        "    phi2 = np.sum((CML_mod - CMLexp) ** 2) / np.sum((CMLexp - 1 / len(CMLexp) * np.sum(CMLexp)) ** 2)\n",
        "\n",
        "    return 0.5 * phi1 + 0.5 * phi2\n",
        "\n",
        "# Use PSO to perform optimization\n",
        "xopt, fopt = pso(objective, lb, ub, swarmsize=100, maxiter=100)\n",
        "\n",
        "# Display the optimized parameters and objective function value\n",
        "param_names = [\n",
        "    \"Y_ho\", \"Y_lo\", \"Y_eo\", \"Y_uo\",\n",
        "    \"A_c\", \"E_c\", \"n_c\", \"m_c\", \"p_c\", \"v_c\",\n",
        "    \"A_h\", \"E_h\", \"n_h\", \"m_h\", \"p_h\", \"v_h\",\n",
        "    \"A_l\", \"E_l\", \"n_l\", \"m_l\", \"p_l\", \"v_l\",\n",
        "    \"A_e\", \"E_e\", \"n_e\", \"m_e\", \"p_e\", \"v_e\",\n",
        "    \"A_u\", \"E_u\", \"n_u\", \"m_u\", \"p_u\", \"v_u\"\n",
        "]\n",
        "\n",
        "print(\"Optimized Parameters:\")\n",
        "for name, value in zip(param_names, xopt):\n",
        "    print(f\"{name}: {value}\")\n",
        "\n",
        "print(\"Objective Function Value:\", fopt)"
      ],
      "metadata": {
        "colab": {
          "base_uri": "https://localhost:8080/"
        },
        "id": "kaSAPgRbzQM2",
        "outputId": "512235f5-e8db-4380-d5e7-f168d26ea982"
      },
      "execution_count": 3,
      "outputs": [
        {
          "output_type": "stream",
          "name": "stderr",
          "text": [
            "<ipython-input-3-deb04653d85c>:56: RuntimeWarning: invalid value encountered in double_scalars\n",
            "  dY_cdt = -Y_co * (Y_c / Y_co) ** params[3] * ((Y_co - Y_c) / Y_co) ** params[4] * (-np.log(Y_c / Y_co + epsilon)) ** params[5] * params[1] * np.exp(-params[2] / (R * t))\n",
            "/usr/local/lib/python3.10/dist-packages/scipy/integrate/_odepack_py.py:248: ODEintWarning: Excess accuracy requested (tolerances too small). Run with full_output = 1 to get quantitative information.\n",
            "  warnings.warn(warning_msg, ODEintWarning)\n",
            "<ipython-input-3-deb04653d85c>:83: RuntimeWarning: overflow encountered in square\n",
            "  phi1 = np.sum((MLR_mod - MLRexp) ** 2) / np.sum((MLRexp - 1 / len(MLRexp) * np.sum(MLRexp)) ** 2)\n",
            "<ipython-input-3-deb04653d85c>:84: RuntimeWarning: overflow encountered in square\n",
            "  phi2 = np.sum((CML_mod - CMLexp) ** 2) / np.sum((CMLexp - 1 / len(CMLexp) * np.sum(CMLexp)) ** 2)\n",
            "<ipython-input-3-deb04653d85c>:60: RuntimeWarning: divide by zero encountered in double_scalars\n",
            "  dY_udt = -Y_uo * (Y_u / Y_uo) ** params[31] * ((Y_uo - Y_u) / Y_uo) ** params[32] * (-np.log(Y_u / Y_uo + epsilon)) ** params[33] * params[29] * np.exp(-params[30] / (R * t))\n",
            "<ipython-input-3-deb04653d85c>:60: RuntimeWarning: invalid value encountered in double_scalars\n",
            "  dY_udt = -Y_uo * (Y_u / Y_uo) ** params[31] * ((Y_uo - Y_u) / Y_uo) ** params[32] * (-np.log(Y_u / Y_uo + epsilon)) ** params[33] * params[29] * np.exp(-params[30] / (R * t))\n"
          ]
        },
        {
          "output_type": "stream",
          "name": "stdout",
          "text": [
            "Stopping search: maximum iterations reached --> 100\n",
            "Optimized Parameters:\n",
            "Y_ho: 0.15196170218316293\n",
            "Y_lo: 1.0504318661184978e+28\n",
            "Y_eo: 96500.0\n",
            "Y_uo: 5.287897733590659\n",
            "A_c: 1.3408939043888175\n",
            "E_c: 8.0\n",
            "n_c: 0.4002754939303975\n",
            "m_c: 0.03365527935981284\n",
            "p_c: 7.597451699202806e+18\n",
            "v_c: 175242.72313719234\n",
            "A_h: 2.7782908995054933\n",
            "E_h: -1.1329077376879653\n",
            "n_h: -8.0\n",
            "m_h: 0.09413435450059499\n",
            "p_h: 0.19685319015631172\n",
            "v_h: 9.425946925914528e+19\n",
            "A_l: 220094.78563866028\n",
            "E_l: 2.59253314982176\n",
            "n_l: -8.0\n",
            "m_l: 4.995931513652678\n",
            "p_l: 0.49\n",
            "v_l: 0.26737212507586894\n",
            "A_e: 1.0757161446405905e+28\n",
            "E_e: 50000.0\n",
            "n_e: 2.274825458011464\n",
            "m_e: -0.3921577642118983\n",
            "p_e: 3.7612800962797\n",
            "v_e: 0.21418124253157927\n",
            "A_u: 0.15\n",
            "E_u: 6.461517573825042e+27\n",
            "n_u: 301590.8826348681\n",
            "m_u: 2.5721718881787585\n",
            "p_u: -0.21914693691321396\n",
            "v_u: 8.0\n",
            "Objective Function Value: 1.2816342231309794\n"
          ]
        }
      ]
    }
  ]
}